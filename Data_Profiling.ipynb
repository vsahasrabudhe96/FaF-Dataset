{
 "cells": [
  {
   "cell_type": "code",
   "execution_count": 2,
   "metadata": {},
   "outputs": [],
   "source": [
    "import pandas as pd\n",
    "import numpy as np\n",
    "from pandas_profiling import ProfileReport\n",
    "import os"
   ]
  },
  {
   "cell_type": "code",
   "execution_count": 6,
   "metadata": {},
   "outputs": [],
   "source": [
    "data_folder = os.listdir('./')[:-1]"
   ]
  },
  {
   "cell_type": "markdown",
   "metadata": {},
   "source": [
    "## Player Stats"
   ]
  },
  {
   "cell_type": "code",
   "execution_count": 8,
   "metadata": {},
   "outputs": [],
   "source": [
    "data_path = data_folder[3]"
   ]
  },
  {
   "cell_type": "code",
   "execution_count": 9,
   "metadata": {},
   "outputs": [
    {
     "name": "stderr",
     "output_type": "stream",
     "text": [
      "/var/folders/cp/9jtgx6ps6ldg63161fmh4z840000gn/T/ipykernel_31781/606058143.py:1: DtypeWarning: Columns (19) have mixed types. Specify dtype option on import or set low_memory=False.\n",
      "  df = pd.read_csv(data_path)\n"
     ]
    }
   ],
   "source": [
    "df = pd.read_csv(data_path)"
   ]
  },
  {
   "cell_type": "code",
   "execution_count": 11,
   "metadata": {},
   "outputs": [
    {
     "data": {
      "text/html": [
       "<div>\n",
       "<style scoped>\n",
       "    .dataframe tbody tr th:only-of-type {\n",
       "        vertical-align: middle;\n",
       "    }\n",
       "\n",
       "    .dataframe tbody tr th {\n",
       "        vertical-align: top;\n",
       "    }\n",
       "\n",
       "    .dataframe thead th {\n",
       "        text-align: right;\n",
       "    }\n",
       "</style>\n",
       "<table border=\"1\" class=\"dataframe\">\n",
       "  <thead>\n",
       "    <tr style=\"text-align: right;\">\n",
       "      <th></th>\n",
       "      <th>game_id</th>\n",
       "      <th>game_start_time</th>\n",
       "      <th>game_duration_minutes</th>\n",
       "      <th>game_validity</th>\n",
       "      <th>game_featuremod_name</th>\n",
       "      <th>game_total_players</th>\n",
       "      <th>map_id</th>\n",
       "      <th>map_name</th>\n",
       "      <th>map_width</th>\n",
       "      <th>map_height</th>\n",
       "      <th>player_id</th>\n",
       "      <th>player_login</th>\n",
       "      <th>player_faction</th>\n",
       "      <th>player_team</th>\n",
       "      <th>player_starting_spot</th>\n",
       "      <th>player_result</th>\n",
       "      <th>player_is_computer</th>\n",
       "      <th>before_rating</th>\n",
       "      <th>after_rating</th>\n",
       "      <th>leaderboard_ids</th>\n",
       "    </tr>\n",
       "  </thead>\n",
       "  <tbody>\n",
       "    <tr>\n",
       "      <th>0</th>\n",
       "      <td>17405720</td>\n",
       "      <td>2022-06-30 23:59:58 UTC</td>\n",
       "      <td>30.7</td>\n",
       "      <td>UNKNOWN_RESULT</td>\n",
       "      <td>FAF</td>\n",
       "      <td>1</td>\n",
       "      <td>21833.0</td>\n",
       "      <td>Hold the line</td>\n",
       "      <td>2048.0</td>\n",
       "      <td>2048.0</td>\n",
       "      <td>431007</td>\n",
       "      <td>Walgreens</td>\n",
       "      <td>UEF</td>\n",
       "      <td>3</td>\n",
       "      <td>1</td>\n",
       "      <td>UNKNOWN</td>\n",
       "      <td>False</td>\n",
       "      <td>0.0</td>\n",
       "      <td>NaN</td>\n",
       "      <td>NaN</td>\n",
       "    </tr>\n",
       "    <tr>\n",
       "      <th>1</th>\n",
       "      <td>17405711</td>\n",
       "      <td>2022-06-30 23:59:44 UTC</td>\n",
       "      <td>30.2</td>\n",
       "      <td>COOP_NOT_RANKED</td>\n",
       "      <td>Coop</td>\n",
       "      <td>1</td>\n",
       "      <td>NaN</td>\n",
       "      <td>NaN</td>\n",
       "      <td>NaN</td>\n",
       "      <td>NaN</td>\n",
       "      <td>96808</td>\n",
       "      <td>Starcruiser</td>\n",
       "      <td>Cybran</td>\n",
       "      <td>1</td>\n",
       "      <td>1</td>\n",
       "      <td>UNKNOWN</td>\n",
       "      <td>False</td>\n",
       "      <td>0.0</td>\n",
       "      <td>NaN</td>\n",
       "      <td>NaN</td>\n",
       "    </tr>\n",
       "    <tr>\n",
       "      <th>2</th>\n",
       "      <td>17405650</td>\n",
       "      <td>2022-06-30 23:58:34 UTC</td>\n",
       "      <td>48.0</td>\n",
       "      <td>VALID</td>\n",
       "      <td>FAF</td>\n",
       "      <td>12</td>\n",
       "      <td>14570.0</td>\n",
       "      <td>Desert Gap</td>\n",
       "      <td>1024.0</td>\n",
       "      <td>1024.0</td>\n",
       "      <td>303409</td>\n",
       "      <td>ourubapu</td>\n",
       "      <td>UEF</td>\n",
       "      <td>3</td>\n",
       "      <td>3</td>\n",
       "      <td>DEFEAT</td>\n",
       "      <td>False</td>\n",
       "      <td>163.3</td>\n",
       "      <td>159.7</td>\n",
       "      <td>1</td>\n",
       "    </tr>\n",
       "    <tr>\n",
       "      <th>3</th>\n",
       "      <td>17405650</td>\n",
       "      <td>2022-06-30 23:58:34 UTC</td>\n",
       "      <td>48.0</td>\n",
       "      <td>VALID</td>\n",
       "      <td>FAF</td>\n",
       "      <td>12</td>\n",
       "      <td>14570.0</td>\n",
       "      <td>Desert Gap</td>\n",
       "      <td>1024.0</td>\n",
       "      <td>1024.0</td>\n",
       "      <td>436692</td>\n",
       "      <td>Enzord_Rocka</td>\n",
       "      <td>UEF</td>\n",
       "      <td>2</td>\n",
       "      <td>11</td>\n",
       "      <td>DEFEAT</td>\n",
       "      <td>False</td>\n",
       "      <td>686.7</td>\n",
       "      <td>692.4</td>\n",
       "      <td>1</td>\n",
       "    </tr>\n",
       "    <tr>\n",
       "      <th>4</th>\n",
       "      <td>17405650</td>\n",
       "      <td>2022-06-30 23:58:34 UTC</td>\n",
       "      <td>48.0</td>\n",
       "      <td>VALID</td>\n",
       "      <td>FAF</td>\n",
       "      <td>12</td>\n",
       "      <td>14570.0</td>\n",
       "      <td>Desert Gap</td>\n",
       "      <td>1024.0</td>\n",
       "      <td>1024.0</td>\n",
       "      <td>17943</td>\n",
       "      <td>Defiant</td>\n",
       "      <td>UEF</td>\n",
       "      <td>3</td>\n",
       "      <td>5</td>\n",
       "      <td>DEFEAT</td>\n",
       "      <td>False</td>\n",
       "      <td>1082.8</td>\n",
       "      <td>1078.0</td>\n",
       "      <td>1</td>\n",
       "    </tr>\n",
       "  </tbody>\n",
       "</table>\n",
       "</div>"
      ],
      "text/plain": [
       "    game_id          game_start_time  game_duration_minutes    game_validity  \\\n",
       "0  17405720  2022-06-30 23:59:58 UTC                   30.7   UNKNOWN_RESULT   \n",
       "1  17405711  2022-06-30 23:59:44 UTC                   30.2  COOP_NOT_RANKED   \n",
       "2  17405650  2022-06-30 23:58:34 UTC                   48.0            VALID   \n",
       "3  17405650  2022-06-30 23:58:34 UTC                   48.0            VALID   \n",
       "4  17405650  2022-06-30 23:58:34 UTC                   48.0            VALID   \n",
       "\n",
       "  game_featuremod_name  game_total_players   map_id       map_name  map_width  \\\n",
       "0                  FAF                   1  21833.0  Hold the line     2048.0   \n",
       "1                 Coop                   1      NaN            NaN        NaN   \n",
       "2                  FAF                  12  14570.0     Desert Gap     1024.0   \n",
       "3                  FAF                  12  14570.0     Desert Gap     1024.0   \n",
       "4                  FAF                  12  14570.0     Desert Gap     1024.0   \n",
       "\n",
       "   map_height  player_id  player_login player_faction  player_team  \\\n",
       "0      2048.0     431007     Walgreens            UEF            3   \n",
       "1         NaN      96808   Starcruiser         Cybran            1   \n",
       "2      1024.0     303409      ourubapu            UEF            3   \n",
       "3      1024.0     436692  Enzord_Rocka            UEF            2   \n",
       "4      1024.0      17943       Defiant            UEF            3   \n",
       "\n",
       "   player_starting_spot player_result  player_is_computer  before_rating  \\\n",
       "0                     1       UNKNOWN               False            0.0   \n",
       "1                     1       UNKNOWN               False            0.0   \n",
       "2                     3        DEFEAT               False          163.3   \n",
       "3                    11        DEFEAT               False          686.7   \n",
       "4                     5        DEFEAT               False         1082.8   \n",
       "\n",
       "   after_rating leaderboard_ids  \n",
       "0           NaN             NaN  \n",
       "1           NaN             NaN  \n",
       "2         159.7               1  \n",
       "3         692.4               1  \n",
       "4        1078.0               1  "
      ]
     },
     "execution_count": 11,
     "metadata": {},
     "output_type": "execute_result"
    }
   ],
   "source": [
    "df.head()"
   ]
  },
  {
   "cell_type": "code",
   "execution_count": 12,
   "metadata": {},
   "outputs": [],
   "source": [
    "prof = ProfileReport(df)"
   ]
  },
  {
   "cell_type": "code",
   "execution_count": 13,
   "metadata": {},
   "outputs": [
    {
     "data": {
      "application/vnd.jupyter.widget-view+json": {
       "model_id": "11747d90432c420a8b645cb533153a1d",
       "version_major": 2,
       "version_minor": 0
      },
      "text/plain": [
       "Summarize dataset:   0%|          | 0/5 [00:00<?, ?it/s]"
      ]
     },
     "metadata": {},
     "output_type": "display_data"
    },
    {
     "name": "stderr",
     "output_type": "stream",
     "text": [
      "/Users/varun/miniconda3/lib/python3.9/site-packages/scipy/stats/_stats_py.py:4868: RuntimeWarning: overflow encountered in long_scalars\n",
      "  (2 * xtie * ytie) / m + x0 * y0 / (9 * m * (size - 2)))\n"
     ]
    },
    {
     "data": {
      "application/vnd.jupyter.widget-view+json": {
       "model_id": "ece97930e1144f2bbab97975afcbd1a4",
       "version_major": 2,
       "version_minor": 0
      },
      "text/plain": [
       "Generate report structure:   0%|          | 0/1 [00:00<?, ?it/s]"
      ]
     },
     "metadata": {},
     "output_type": "display_data"
    },
    {
     "data": {
      "application/vnd.jupyter.widget-view+json": {
       "model_id": "b2f00c92e8ce4f8d89d12a754ef958ed",
       "version_major": 2,
       "version_minor": 0
      },
      "text/plain": [
       "Render HTML:   0%|          | 0/1 [00:00<?, ?it/s]"
      ]
     },
     "metadata": {},
     "output_type": "display_data"
    },
    {
     "data": {
      "application/vnd.jupyter.widget-view+json": {
       "model_id": "01816f88869a486fa1d6cd952cb07881",
       "version_major": 2,
       "version_minor": 0
      },
      "text/plain": [
       "Export report to file:   0%|          | 0/1 [00:00<?, ?it/s]"
      ]
     },
     "metadata": {},
     "output_type": "display_data"
    }
   ],
   "source": [
    "prof.to_file(output_file='ProfileReportPlayerStats.html')"
   ]
  },
  {
   "cell_type": "markdown",
   "metadata": {},
   "source": [
    "## Jan22"
   ]
  },
  {
   "cell_type": "code",
   "execution_count": 14,
   "metadata": {},
   "outputs": [
    {
     "data": {
      "text/plain": [
       "['issue_cmds.mar22.csv',\n",
       " 'issue_stats.csv',\n",
       " 'issue_cmds.jan22.csv',\n",
       " 'playerstats.csv',\n",
       " '.ipynb_checkpoints',\n",
       " 'issue_cmds.feb22.csv']"
      ]
     },
     "execution_count": 14,
     "metadata": {},
     "output_type": "execute_result"
    }
   ],
   "source": [
    "data_folder"
   ]
  },
  {
   "cell_type": "code",
   "execution_count": 15,
   "metadata": {},
   "outputs": [
    {
     "name": "stderr",
     "output_type": "stream",
     "text": [
      "/var/folders/cp/9jtgx6ps6ldg63161fmh4z840000gn/T/ipykernel_31781/1507841470.py:1: DtypeWarning: Columns (6) have mixed types. Specify dtype option on import or set low_memory=False.\n",
      "  df_jan = pd.read_csv('issue_cmds.jan22.csv')\n"
     ]
    }
   ],
   "source": [
    "df_jan = pd.read_csv('issue_cmds.jan22.csv')"
   ]
  },
  {
   "cell_type": "code",
   "execution_count": 17,
   "metadata": {},
   "outputs": [
    {
     "data": {
      "application/vnd.jupyter.widget-view+json": {
       "model_id": "f1c8ca86111b4a19abbb480a5294825d",
       "version_major": 2,
       "version_minor": 0
      },
      "text/plain": [
       "Summarize dataset:   0%|          | 0/5 [00:00<?, ?it/s]"
      ]
     },
     "metadata": {},
     "output_type": "display_data"
    },
    {
     "name": "stderr",
     "output_type": "stream",
     "text": [
      "/Users/varun/miniconda3/lib/python3.9/site-packages/scipy/stats/_stats_py.py:4868: RuntimeWarning: overflow encountered in long_scalars\n",
      "  (2 * xtie * ytie) / m + x0 * y0 / (9 * m * (size - 2)))\n"
     ]
    },
    {
     "data": {
      "application/vnd.jupyter.widget-view+json": {
       "model_id": "d8cceecabdd0467693d86942a11e4c4f",
       "version_major": 2,
       "version_minor": 0
      },
      "text/plain": [
       "Generate report structure:   0%|          | 0/1 [00:00<?, ?it/s]"
      ]
     },
     "metadata": {},
     "output_type": "display_data"
    },
    {
     "data": {
      "application/vnd.jupyter.widget-view+json": {
       "model_id": "a59f1780878e4629baea4b6fd9a13b5a",
       "version_major": 2,
       "version_minor": 0
      },
      "text/plain": [
       "Render HTML:   0%|          | 0/1 [00:00<?, ?it/s]"
      ]
     },
     "metadata": {},
     "output_type": "display_data"
    },
    {
     "data": {
      "application/vnd.jupyter.widget-view+json": {
       "model_id": "308d03bf270c4d708bc043c981c47809",
       "version_major": 2,
       "version_minor": 0
      },
      "text/plain": [
       "Export report to file:   0%|          | 0/1 [00:00<?, ?it/s]"
      ]
     },
     "metadata": {},
     "output_type": "display_data"
    }
   ],
   "source": [
    "prof_jan = ProfileReport(df_jan)\n",
    "prof_jan.to_file(output_file='ProfileReportJan22.html')"
   ]
  },
  {
   "cell_type": "markdown",
   "metadata": {},
   "source": [
    "## Feb22"
   ]
  },
  {
   "cell_type": "code",
   "execution_count": 18,
   "metadata": {},
   "outputs": [
    {
     "name": "stderr",
     "output_type": "stream",
     "text": [
      "/var/folders/cp/9jtgx6ps6ldg63161fmh4z840000gn/T/ipykernel_31781/1678507369.py:1: DtypeWarning: Columns (6) have mixed types. Specify dtype option on import or set low_memory=False.\n",
      "  df_feb = pd.read_csv('issue_cmds.feb22.csv')\n"
     ]
    }
   ],
   "source": [
    "df_feb = pd.read_csv('issue_cmds.feb22.csv')"
   ]
  },
  {
   "cell_type": "code",
   "execution_count": 19,
   "metadata": {},
   "outputs": [
    {
     "data": {
      "application/vnd.jupyter.widget-view+json": {
       "model_id": "e08a4d604a0d423e92ad4b9699bab082",
       "version_major": 2,
       "version_minor": 0
      },
      "text/plain": [
       "Summarize dataset:   0%|          | 0/5 [00:00<?, ?it/s]"
      ]
     },
     "metadata": {},
     "output_type": "display_data"
    },
    {
     "name": "stderr",
     "output_type": "stream",
     "text": [
      "/Users/varun/miniconda3/lib/python3.9/site-packages/scipy/stats/_stats_py.py:4868: RuntimeWarning: overflow encountered in long_scalars\n",
      "  (2 * xtie * ytie) / m + x0 * y0 / (9 * m * (size - 2)))\n"
     ]
    },
    {
     "data": {
      "application/vnd.jupyter.widget-view+json": {
       "model_id": "407989115e0449fda333e34f5ed4c489",
       "version_major": 2,
       "version_minor": 0
      },
      "text/plain": [
       "Generate report structure:   0%|          | 0/1 [00:00<?, ?it/s]"
      ]
     },
     "metadata": {},
     "output_type": "display_data"
    },
    {
     "data": {
      "application/vnd.jupyter.widget-view+json": {
       "model_id": "31e18dd9bc0c48f3ba8795a5dcede96f",
       "version_major": 2,
       "version_minor": 0
      },
      "text/plain": [
       "Render HTML:   0%|          | 0/1 [00:00<?, ?it/s]"
      ]
     },
     "metadata": {},
     "output_type": "display_data"
    },
    {
     "data": {
      "application/vnd.jupyter.widget-view+json": {
       "model_id": "615b7406245f49a08419d854c5ac9d60",
       "version_major": 2,
       "version_minor": 0
      },
      "text/plain": [
       "Export report to file:   0%|          | 0/1 [00:00<?, ?it/s]"
      ]
     },
     "metadata": {},
     "output_type": "display_data"
    }
   ],
   "source": [
    "prof_feb = ProfileReport(df_feb)\n",
    "prof_feb.to_file(output_file='ProfileReportFeb22.html')"
   ]
  },
  {
   "cell_type": "markdown",
   "metadata": {},
   "source": [
    "## Mar22"
   ]
  },
  {
   "cell_type": "code",
   "execution_count": 20,
   "metadata": {},
   "outputs": [
    {
     "name": "stderr",
     "output_type": "stream",
     "text": [
      "/var/folders/cp/9jtgx6ps6ldg63161fmh4z840000gn/T/ipykernel_31781/3559866882.py:1: DtypeWarning: Columns (6) have mixed types. Specify dtype option on import or set low_memory=False.\n",
      "  df_mar = pd.read_csv('issue_cmds.mar22.csv')\n"
     ]
    }
   ],
   "source": [
    "df_mar = pd.read_csv('issue_cmds.mar22.csv')"
   ]
  },
  {
   "cell_type": "code",
   "execution_count": 21,
   "metadata": {},
   "outputs": [
    {
     "data": {
      "application/vnd.jupyter.widget-view+json": {
       "model_id": "6fb0a2163e36450fa345721fc4ba4631",
       "version_major": 2,
       "version_minor": 0
      },
      "text/plain": [
       "Summarize dataset:   0%|          | 0/5 [00:00<?, ?it/s]"
      ]
     },
     "metadata": {},
     "output_type": "display_data"
    },
    {
     "name": "stderr",
     "output_type": "stream",
     "text": [
      "/Users/varun/miniconda3/lib/python3.9/site-packages/scipy/stats/_stats_py.py:4868: RuntimeWarning: overflow encountered in long_scalars\n",
      "  (2 * xtie * ytie) / m + x0 * y0 / (9 * m * (size - 2)))\n"
     ]
    },
    {
     "data": {
      "application/vnd.jupyter.widget-view+json": {
       "model_id": "99685b29dc3a4962940280c49f6e0a91",
       "version_major": 2,
       "version_minor": 0
      },
      "text/plain": [
       "Generate report structure:   0%|          | 0/1 [00:00<?, ?it/s]"
      ]
     },
     "metadata": {},
     "output_type": "display_data"
    },
    {
     "data": {
      "application/vnd.jupyter.widget-view+json": {
       "model_id": "648b5e30af024088ac76e8e425a34614",
       "version_major": 2,
       "version_minor": 0
      },
      "text/plain": [
       "Render HTML:   0%|          | 0/1 [00:00<?, ?it/s]"
      ]
     },
     "metadata": {},
     "output_type": "display_data"
    },
    {
     "data": {
      "application/vnd.jupyter.widget-view+json": {
       "model_id": "0fab99caaebf4145ba186abb48a8b266",
       "version_major": 2,
       "version_minor": 0
      },
      "text/plain": [
       "Export report to file:   0%|          | 0/1 [00:00<?, ?it/s]"
      ]
     },
     "metadata": {},
     "output_type": "display_data"
    }
   ],
   "source": [
    "prof_mar = ProfileReport(df_mar)\n",
    "prof_mar.to_file(output_file='ProfileReportMar22.html')"
   ]
  },
  {
   "cell_type": "markdown",
   "metadata": {},
   "source": [
    "## Issue Stats"
   ]
  },
  {
   "cell_type": "code",
   "execution_count": 22,
   "metadata": {},
   "outputs": [],
   "source": [
    "df_issue = pd.read_csv('issue_stats.csv')"
   ]
  },
  {
   "cell_type": "code",
   "execution_count": 23,
   "metadata": {},
   "outputs": [
    {
     "data": {
      "application/vnd.jupyter.widget-view+json": {
       "model_id": "b8cd28b7a35841c3b2407b1fc7a1a595",
       "version_major": 2,
       "version_minor": 0
      },
      "text/plain": [
       "Summarize dataset:   0%|          | 0/5 [00:00<?, ?it/s]"
      ]
     },
     "metadata": {},
     "output_type": "display_data"
    },
    {
     "name": "stderr",
     "output_type": "stream",
     "text": [
      "/Users/varun/miniconda3/lib/python3.9/site-packages/scipy/stats/_stats_py.py:4868: RuntimeWarning: overflow encountered in long_scalars\n",
      "  (2 * xtie * ytie) / m + x0 * y0 / (9 * m * (size - 2)))\n"
     ]
    },
    {
     "data": {
      "application/vnd.jupyter.widget-view+json": {
       "model_id": "9c595c794b1a4ed98c132c03526b0176",
       "version_major": 2,
       "version_minor": 0
      },
      "text/plain": [
       "Generate report structure:   0%|          | 0/1 [00:00<?, ?it/s]"
      ]
     },
     "metadata": {},
     "output_type": "display_data"
    },
    {
     "data": {
      "application/vnd.jupyter.widget-view+json": {
       "model_id": "995072915c4e4dac97bb7f1a6f58d335",
       "version_major": 2,
       "version_minor": 0
      },
      "text/plain": [
       "Render HTML:   0%|          | 0/1 [00:00<?, ?it/s]"
      ]
     },
     "metadata": {},
     "output_type": "display_data"
    },
    {
     "data": {
      "application/vnd.jupyter.widget-view+json": {
       "model_id": "f866d823987a49858bc906141ac04407",
       "version_major": 2,
       "version_minor": 0
      },
      "text/plain": [
       "Export report to file:   0%|          | 0/1 [00:00<?, ?it/s]"
      ]
     },
     "metadata": {},
     "output_type": "display_data"
    }
   ],
   "source": [
    "prof_issue = ProfileReport(df_issue)\n",
    "prof_issue.to_file(output_file='ProfileReportIssueStats.html')"
   ]
  },
  {
   "cell_type": "code",
   "execution_count": null,
   "metadata": {},
   "outputs": [],
   "source": []
  }
 ],
 "metadata": {
  "kernelspec": {
   "display_name": "Python 3 (ipykernel)",
   "language": "python",
   "name": "python3"
  },
  "language_info": {
   "codemirror_mode": {
    "name": "ipython",
    "version": 3
   },
   "file_extension": ".py",
   "mimetype": "text/x-python",
   "name": "python",
   "nbconvert_exporter": "python",
   "pygments_lexer": "ipython3",
   "version": "3.9.11"
  },
  "vscode": {
   "interpreter": {
    "hash": "aee8b7b246df8f9039afb4144a1f6fd8d2ca17a180786b69acc140d282b71a49"
   }
  }
 },
 "nbformat": 4,
 "nbformat_minor": 2
}
